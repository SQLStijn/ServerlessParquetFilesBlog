{
  "cells": [
    {
      "cell_type": "markdown",
      "source": [
        "<h1> Loading Sorted Dataset to PyArrow"
      ],
      "metadata": {
        "nteract": {
          "transient": {
            "deleting": false
          }
        }
      }
    },
    {
      "cell_type": "code",
      "source": [
        "#Need the following to import the blob file\r\n",
        "from azure.storage.blob import BlobServiceClient, BlobClient, ContainerClient\r\n",
        "\r\n",
        "#To import the blob into a pyarrow dataframe\r\n",
        "import pyarrow.parquet as pq\r\n",
        "\r\n",
        "#To stream the data into the dataframe\r\n",
        "from io import BytesIO\r\n",
        "\r\n",
        "#Variables for the connection\r\n",
        "filename = \"ParquetFile.snappy.parquet\"\r\n",
        "CONNECT_STR = \"DefaultEndpointsProtocol=https;AccountName=YourAccountName;AccountKey=YourAccountKey;EndpointSuffix=core.windows.net\"\r\n",
        "container_name=\"YourContainerName\"\r\n",
        "\r\n",
        "#Load data to a stream\r\n",
        "blob_service_client = BlobServiceClient.from_connection_string(CONNECT_STR)\r\n",
        "container_client=blob_service_client.get_container_client(container_name)\r\n",
        "blob_client = container_client.get_blob_client(filename)\r\n",
        "streamdownloader=blob_client.download_blob()\r\n",
        "stream = BytesIO()\r\n",
        "streamdownloader.download_to_stream(stream)\r\n",
        "\r\n",
        "#Load the stream to the Pyarrow DataFrame\r\n",
        "PyFrame = pq.ParquetFile(source=stream)\r\n"
      ],
      "outputs": [
        {
          "output_type": "display_data",
          "data": {
            "application/vnd.livy.statement-meta+json": {
              "spark_pool": "SparkySpark",
              "session_id": 3,
              "statement_id": 1,
              "state": "finished",
              "livy_statement_state": "available",
              "queued_time": "2022-03-23T19:08:07.7601227Z",
              "session_start_time": "2022-03-23T19:08:07.8010845Z",
              "execution_start_time": "2022-03-23T19:11:00.5503283Z",
              "execution_finish_time": "2022-03-23T19:13:15.7249165Z"
            },
            "text/plain": "StatementMeta(SparkySpark, 3, 1, Finished, Available)"
          },
          "metadata": {}
        }
      ],
      "execution_count": 57,
      "metadata": {
        "jupyter": {
          "source_hidden": false,
          "outputs_hidden": false
        },
        "nteract": {
          "transient": {
            "deleting": false
          }
        },
        "collapsed": true
      }
    },
    {
      "cell_type": "markdown",
      "source": [
        "<h1>Querying File Metadata for the first rowgroup of the column PULocationID"
      ],
      "metadata": {
        "nteract": {
          "transient": {
            "deleting": false
          }
        }
      }
    },
    {
      "cell_type": "code",
      "source": [
        "PyFrame.metadata"
      ],
      "outputs": [
        {
          "output_type": "display_data",
          "data": {
            "application/vnd.livy.statement-meta+json": {
              "spark_pool": "SparkySpark",
              "session_id": 3,
              "statement_id": 2,
              "state": "finished",
              "livy_statement_state": "available",
              "queued_time": "2022-03-23T19:08:09.8060627Z",
              "session_start_time": null,
              "execution_start_time": "2022-03-23T19:13:16.1287542Z",
              "execution_finish_time": "2022-03-23T19:13:16.5486743Z"
            },
            "text/plain": "StatementMeta(SparkySpark, 3, 2, Finished, Available)"
          },
          "metadata": {}
        },
        {
          "output_type": "display_data",
          "data": {
            "text/plain": "<pyarrow._parquet.FileMetaData object at 0x7fdff7cf2638>\n  created_by: parquet-mr version 1.10.1 (build a89df8f9932b6ef6633d06069e50c9b7970bebd1)\n  num_columns: 20\n  num_rows: 168999028\n  num_row_groups: 35\n  format_version: 1.0\n  serialized_size: 69770"
          },
          "metadata": {}
        }
      ],
      "execution_count": 58,
      "metadata": {
        "jupyter": {
          "source_hidden": false,
          "outputs_hidden": false
        },
        "nteract": {
          "transient": {
            "deleting": false
          }
        }
      }
    },
    {
      "cell_type": "code",
      "source": [
        "PyFrame.metadata.row_group(0).column(6)"
      ],
      "outputs": [
        {
          "output_type": "display_data",
          "data": {
            "application/vnd.livy.statement-meta+json": {
              "spark_pool": "SparkySpark",
              "session_id": 3,
              "statement_id": 3,
              "state": "finished",
              "livy_statement_state": "available",
              "queued_time": "2022-03-23T19:08:11.3567579Z",
              "session_start_time": null,
              "execution_start_time": "2022-03-23T19:13:16.9238076Z",
              "execution_finish_time": "2022-03-23T19:13:17.3398818Z"
            },
            "text/plain": "StatementMeta(SparkySpark, 3, 3, Finished, Available)"
          },
          "metadata": {}
        },
        {
          "output_type": "display_data",
          "data": {
            "text/plain": "<pyarrow._parquet.ColumnChunkMetaData object at 0x7fdfdad48d38>\n  file_offset: 12566419\n  file_path: \n  physical_type: INT32\n  num_values: 4960100\n  path_in_schema: PULocationID\n  is_stats_set: True\n  statistics:\n    <pyarrow._parquet.Statistics object at 0x7fdfdabe6ea0>\n      has_min_max: True\n      min: 0\n      max: 7\n      null_count: 0\n      distinct_count: 0\n      num_values: 4960100\n      physical_type: INT32\n      logical_type: None\n      converted_type (legacy): NONE\n  compression: SNAPPY\n  encodings: ('PLAIN_DICTIONARY', 'BIT_PACKED', 'RLE')\n  has_dictionary_page: False\n  dictionary_page_offset: None\n  data_page_offset: 12566419\n  total_compressed_size: 1251\n  total_uncompressed_size: 1211"
          },
          "metadata": {}
        }
      ],
      "execution_count": 59,
      "metadata": {
        "jupyter": {
          "source_hidden": false,
          "outputs_hidden": false
        },
        "nteract": {
          "transient": {
            "deleting": false
          }
        },
        "collapsed": true
      }
    },
    {
      "cell_type": "markdown",
      "source": [
        "<h1>Querying File Metadata data for the second rowgroup of the Column PULocationID"
      ],
      "metadata": {
        "nteract": {
          "transient": {
            "deleting": false
          }
        }
      }
    },
    {
      "cell_type": "code",
      "source": [
        "PyFrame.metadata.row_group(1).column(6)"
      ],
      "outputs": [
        {
          "output_type": "display_data",
          "data": {
            "application/vnd.livy.statement-meta+json": {
              "spark_pool": "SparkySpark",
              "session_id": 3,
              "statement_id": 4,
              "state": "finished",
              "livy_statement_state": "available",
              "queued_time": "2022-03-23T19:08:14.6907007Z",
              "session_start_time": null,
              "execution_start_time": "2022-03-23T19:13:17.724207Z",
              "execution_finish_time": "2022-03-23T19:13:18.1361729Z"
            },
            "text/plain": "StatementMeta(SparkySpark, 3, 4, Finished, Available)"
          },
          "metadata": {}
        },
        {
          "output_type": "display_data",
          "data": {
            "text/plain": "<pyarrow._parquet.ColumnChunkMetaData object at 0x7fdfdabe6ea0>\n  file_offset: 132913315\n  file_path: \n  physical_type: INT32\n  num_values: 4960100\n  path_in_schema: PULocationID\n  is_stats_set: True\n  statistics:\n    <pyarrow._parquet.Statistics object at 0x7fdfdabe6ca8>\n      has_min_max: True\n      min: 7\n      max: 15\n      null_count: 0\n      distinct_count: 0\n      num_values: 4960100\n      physical_type: INT32\n      logical_type: None\n      converted_type (legacy): NONE\n  compression: SNAPPY\n  encodings: ('PLAIN_DICTIONARY', 'BIT_PACKED', 'RLE')\n  has_dictionary_page: False\n  dictionary_page_offset: None\n  data_page_offset: 132913315\n  total_compressed_size: 1260\n  total_uncompressed_size: 1220"
          },
          "metadata": {}
        }
      ],
      "execution_count": 60,
      "metadata": {
        "jupyter": {
          "source_hidden": false,
          "outputs_hidden": false
        },
        "nteract": {
          "transient": {
            "deleting": false
          }
        },
        "collapsed": true
      }
    }
  ],
  "metadata": {
    "kernelspec": {
      "name": "synapse_pyspark",
      "language": "Python",
      "display_name": "Synapse PySpark"
    },
    "language_info": {
      "name": "python"
    },
    "kernel_info": {
      "name": "synapse_pyspark"
    },
    "description": null,
    "save_output": true,
    "synapse_widget": {
      "version": "0.1",
      "state": {}
    }
  },
  "nbformat": 4,
  "nbformat_minor": 2
}